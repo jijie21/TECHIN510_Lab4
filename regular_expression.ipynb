{
 "cells": [
  {
   "cell_type": "markdown",
   "metadata": {},
   "source": [
    "# Practice Problems"
   ]
  },
  {
   "cell_type": "markdown",
   "metadata": {},
   "source": [
    "### Problem 1: Email Extraction\n",
    "\n",
    "**Problem**: Extract emails from a given string.  \n",
    "**String**: \"Contact us at support@example.com or sales@example.org\""
   ]
  },
  {
   "cell_type": "code",
   "execution_count": 2,
   "metadata": {},
   "outputs": [
    {
     "name": "stdout",
     "output_type": "stream",
     "text": [
      "['support@gmail.com', 'sales@example.org', 'jackieji@123.com']\n"
     ]
    }
   ],
   "source": [
    "import re\n",
    "\n",
    "# Given string\n",
    "text = \"Contact us at support@gmail.com or sales@example.org or jackieji@123.com\"\n",
    "\n",
    "# Regular expression for matching email addresses\n",
    "# [a-zA-Z0-9._%+-]+: Matches the user name part of the email (letters, numbers, dots, underscores, percentages, plus signs, and hyphens)\n",
    "# @: Matches the @ symbol in the email\n",
    "# [a-zA-Z0-9.-]+: Matches the domain part of the email (letters, numbers, dots, and hyphens)\n",
    "# \\.[a-zA-Z]{2,}: Matches the domain suffix (like .com, .org), which starts with a dot followed by two or more letters\n",
    "email_regex = r'[a-zA-Z0-9._%+-]+@[a-zA-Z0-9.-]+\\.[a-zA-Z]{2,}'\n",
    "\n",
    "# Extracting email addresses using the findall method from the re (regular expression) module\n",
    "extracted_emails = re.findall(email_regex, text)\n",
    "\n",
    "# Printing the extracted email addresses\n",
    "print(extracted_emails)\n"
   ]
  },
  {
   "cell_type": "markdown",
   "metadata": {},
   "source": [
    "### Problem 2: Phone Number Validation\n",
    "\n",
    "**Problem**: Validate and extract US phone numbers in the format xxx-xxx-xxxx.  \n",
    "**String**: \"My numbers are 123-456-7890 or 333-333-3333\""
   ]
  },
  {
   "cell_type": "code",
   "execution_count": 3,
   "metadata": {},
   "outputs": [
    {
     "name": "stdout",
     "output_type": "stream",
     "text": [
      "['206.461.5888', '206.461.5800', '206.461.5855']\n"
     ]
    }
   ],
   "source": [
    "import requests\n",
    "import re\n",
    "\n",
    "# URL to extract phone numbers from\n",
    "url = \"https://visitseattle.org/contact-us/\"\n",
    "\n",
    "# Send a GET request to the URL\n",
    "response = requests.get(url)\n",
    "\n",
    "# Check if the request was successful\n",
    "if response.status_code == 200:\n",
    "    # Regular expression for matching US phone numbers in the format xxx-xxx-xxxx\n",
    "    phone_number_regex = r'\\b\\d{3}.\\d{3}.\\d{4}\\b'\n",
    "\n",
    "    # Extracting phone numbers\n",
    "    extracted_phone_numbers = re.findall(phone_number_regex, response.text)\n",
    "    print(extracted_phone_numbers)\n",
    "else:\n",
    "    print(\"Failed to retrieve the webpage.\")\n"
   ]
  },
  {
   "cell_type": "code",
   "execution_count": null,
   "metadata": {},
   "outputs": [],
   "source": []
  }
 ],
 "metadata": {
  "kernelspec": {
   "display_name": "base",
   "language": "python",
   "name": "python3"
  },
  "language_info": {
   "codemirror_mode": {
    "name": "ipython",
    "version": 3
   },
   "file_extension": ".py",
   "mimetype": "text/x-python",
   "name": "python",
   "nbconvert_exporter": "python",
   "pygments_lexer": "ipython3",
   "version": "3.11.7"
  }
 },
 "nbformat": 4,
 "nbformat_minor": 2
}
