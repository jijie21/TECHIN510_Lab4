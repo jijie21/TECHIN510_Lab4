{
 "cells": [
  {
   "cell_type": "markdown",
   "metadata": {},
   "source": [
    "# Practice Problems"
   ]
  },
  {
   "cell_type": "markdown",
   "metadata": {},
   "source": [
    "### Problem 1: Email Extraction\n",
    "\n",
    "**Problem**: Extract emails from a given string.  \n",
    "**String**: \"Contact us at support@example.com or sales@example.org\""
   ]
  },
  {
   "cell_type": "code",
   "execution_count": 2,
   "metadata": {},
   "outputs": [
    {
     "name": "stdout",
     "output_type": "stream",
     "text": [
      "['support@gmail.com', 'sales@example.org', 'jackieji@123.com']\n"
     ]
    }
   ],
   "source": [
    "import re\n",
    "\n",
    "# Given string\n",
    "text = \"Contact us at support@gmail.com or sales@example.org or jackieji@123.com\"\n",
    "\n",
    "# Regular expression for matching email addresses\n",
    "# [a-zA-Z0-9._%+-]+: Matches the user name part of the email (letters, numbers, dots, underscores, percentages, plus signs, and hyphens)\n",
    "# @: Matches the @ symbol in the email\n",
    "# [a-zA-Z0-9.-]+: Matches the domain part of the email (letters, numbers, dots, and hyphens)\n",
    "# \\.[a-zA-Z]{2,}: Matches the domain suffix (like .com, .org), which starts with a dot followed by two or more letters\n",
    "email_regex = r'[a-zA-Z0-9._%+-]+@[a-zA-Z0-9.-]+\\.[a-zA-Z]{2,}'\n",
    "\n",
    "# Extracting email addresses using the findall method from the re (regular expression) module\n",
    "extracted_emails = re.findall(email_regex, text)\n",
    "\n",
    "# Printing the extracted email addresses\n",
    "print(extracted_emails)\n"
   ]
  },
  {
   "cell_type": "markdown",
   "metadata": {},
   "source": [
    "### Problem 2: Phone Number Validation\n",
    "\n",
    "**Problem**: Validate and extract US phone numbers in the format xxx-xxx-xxxx.  \n",
    "**String**: \"My numbers are 123-456-7890 or 333-333-3333\""
   ]
  },
  {
   "cell_type": "code",
   "execution_count": 3,
   "metadata": {},
   "outputs": [
    {
     "name": "stdout",
     "output_type": "stream",
     "text": [
      "['206.461.5888', '206.461.5800', '206.461.5855']\n"
     ]
    }
   ],
   "source": [
    "import requests\n",
    "import re\n",
    "\n",
    "# URL to extract phone numbers from\n",
    "url = \"https://visitseattle.org/contact-us/\"\n",
    "\n",
    "# Send a GET request to the URL\n",
    "response = requests.get(url)\n",
    "\n",
    "# Check if the request was successful\n",
    "if response.status_code == 200:\n",
    "    # Regular expression for matching US phone numbers in the format xxx-xxx-xxxx\n",
    "    phone_number_regex = r'\\b\\d{3}.\\d{3}.\\d{4}\\b'\n",
    "\n",
    "    # Extracting phone numbers\n",
    "    extracted_phone_numbers = re.findall(phone_number_regex, response.text)\n",
    "    print(extracted_phone_numbers)\n"
   ]
  },
  {
   "cell_type": "code",
   "execution_count": 5,
   "metadata": {},
   "outputs": [
    {
     "name": "stdout",
     "output_type": "stream",
     "text": [
      "['(206) 443-2560', '(253) 288-7700', '(800) 464-1476', '(360) 378-1962']\n"
     ]
    }
   ],
   "source": [
    "import requests\n",
    "import re\n",
    "url = 'https://visitseattle.org/things-to-do/sightseeing/'\n",
    "response = requests.get(url)\n",
    "data = response.text\n",
    "new_pattern = r'\\(\\d{3}\\)\\s\\d{3}-\\d{4}'\n",
    "# Using re.findall to extract all matching phone numbers from the string\n",
    "phone_numbers = re.findall(new_pattern, data)\n",
    "print(phone_numbers)"
   ]
  },
  {
   "cell_type": "code",
   "execution_count": 9,
   "metadata": {},
   "outputs": [
    {
     "name": "stdout",
     "output_type": "stream",
     "text": [
      "['hcdehelp@uw.edu', 'hcdehelp@uw.edu', 'hcdeweb@uw.edu']\n"
     ]
    }
   ],
   "source": [
    "import requests\n",
    "import re\n",
    "url = 'https://www.hcde.washington.edu/contact-us'\n",
    "response = requests.get(url)\n",
    "data = response.text\n",
    "pattern = r'[a-zA-Z0-9._%+-]+@[a-zA-Z0-9.-]+\\.[a-zA-Z]{2,}'\n",
    "email = re.findall(pattern, data)\n",
    "print(email)"
   ]
  },
  {
   "cell_type": "markdown",
   "metadata": {},
   "source": [
    "### Problem 3: Password Strength Check\n",
    "\n",
    "**Problem**: Problem: Check if a password is at least 8 characters long, contains a digit, an uppercase, and a lowercase letter.\n",
    "**String**: \"Password1\""
   ]
  },
  {
   "cell_type": "code",
   "execution_count": 3,
   "metadata": {},
   "outputs": [
    {
     "name": "stdout",
     "output_type": "stream",
     "text": [
      "Valid password\n"
     ]
    }
   ],
   "source": [
    "import re\n",
    "\n",
    "# The given string to be validated\n",
    "password = \"Password1\"\n",
    "\n",
    "# Regular expression to check if password is at least 8 characters long,\n",
    "# contains at least one digit, one uppercase, and one lowercase letter\n",
    "regex = r\"^(?=.*[a-z])(?=.*[A-Z])(?=.*\\d).{8,}$\"\n",
    "\n",
    "# Using re.match() to check if the regex pattern matches the given password\n",
    "if re.match(regex, password):\n",
    "    print(\"Valid password\")\n",
    "else:\n",
    "    print(\"Invalid password\")\n"
   ]
  },
  {
   "cell_type": "markdown",
   "metadata": {},
   "source": [
    "### Problem 4: Extracting Domain Name\n",
    "\n",
    "**Problem**: Extract the domain name from an email address.  \n",
    "**String**: \"user@example.com\""
   ]
  },
  {
   "cell_type": "code",
   "execution_count": 11,
   "metadata": {},
   "outputs": [
    {
     "name": "stdout",
     "output_type": "stream",
     "text": [
      "Domain name: foxmail\n"
     ]
    }
   ],
   "source": [
    "import re\n",
    "\n",
    "# Function to extract domain name from an email address\n",
    "def extract_domain(email):\n",
    "    # Regular expression for extracting the domain name\n",
    "    # @: Matches the @ character in the email address\n",
    "    # ([a-zA-Z0-9.-]+): Captures the domain name (alphanumeric characters, dot, and hyphen)\n",
    "    # \\.: Matches the literal dot before the top-level domain\n",
    "    domain_name_regex = r'@([a-zA-Z0-9.-]+)\\.'\n",
    "\n",
    "    # Extracting the domain name\n",
    "    extracted_domain = re.search(domain_name_regex, email)\n",
    "    return extracted_domain.group(1) if extracted_domain else \"Domain not found\"\n",
    "\n",
    "# Email address to extract the domain from\n",
    "email = \"usjackier@foxmail.com\"\n",
    "\n",
    "# Extracting the domain name\n",
    "domain_name = extract_domain(email)\n",
    "\n",
    "# Printing the result\n",
    "print(\"Domain name:\", domain_name)"
   ]
  },
  {
   "cell_type": "markdown",
   "metadata": {},
   "source": [
    "### Problem 5: Validating an IP Address\n",
    "\n",
    "**Problem**: Check if a string is a valid IPv4 address.  \n",
    "**String**: \"192.168.1.1\""
   ]
  },
  {
   "cell_type": "code",
   "execution_count": 12,
   "metadata": {},
   "outputs": [
    {
     "name": "stdout",
     "output_type": "stream",
     "text": [
      "Is the IP address valid? True\n"
     ]
    }
   ],
   "source": [
    "import re\n",
    "\n",
    "# Function to validate an IPv4 address\n",
    "def validate_ipv4(ip_address):\n",
    "    # Regular expression for validating an IPv4 address\n",
    "    # ^ and $: Start and end of the string\n",
    "    # 25[0-5]|2[0-4][0-9]|[01]?[0-9][0-9]?: Matches an octet of the IP address\n",
    "    ipv4_regex = r'^(25[0-5]|2[0-4][0-9]|[01]?[0-9][0-9]?)\\.(25[0-5]|2[0-4][0-9]|[01]?[0-9][0-9]?)\\.(25[0-5]|2[0-4][0-9]|[01]?[0-9][0-9]?)\\.(25[0-5]|2[0-4][0-9]|[01]?[0-9][0-9]?)$'\n",
    "\n",
    "    # Checking if the IP address is valid\n",
    "    return bool(re.match(ipv4_regex, ip_address))\n",
    "\n",
    "# IP address to validate\n",
    "ip_address = \"192.168.1.1\"\n",
    "\n",
    "# Validating the IP address\n",
    "is_valid_ipv4 = validate_ipv4(ip_address)\n",
    "\n",
    "# Printing the result\n",
    "print(\"Is the IP address valid?\", is_valid_ipv4)"
   ]
  },
  {
   "cell_type": "markdown",
   "metadata": {},
   "source": [
    "# Reference"
   ]
  },
  {
   "cell_type": "markdown",
   "metadata": {},
   "source": [
    "### Basic Syntax\n",
    "\n",
    "- `.`: Matches any single character except newline\n",
    "- `^`: Matches the start of the string\n",
    "- `$`: Matches the end of the string\n",
    "- `*`: Matches 0 or more repetitions of the preceding element\n",
    "- `+`: Matches 1 or more repetitions of the preceding element\n",
    "- `?`: Matches 0 or 1 repetition of the preceding element\n",
    "- `{n}`: Matches exactly n repetitions of the preceding element\n",
    "- `{n,}`: Matches at least n repetitions of the preceding element\n",
    "- `{n,m}`: Matches between n and m repetitions of the preceding element\n",
    "- `|`: Alternation, matches either the pattern before or the pattern after the symbol\n",
    "\n",
    "### Character Classes\n",
    "\n",
    "- `[abc]`: Matches any one of the characters a, b, or c\n",
    "- `[^abc]`: Matches any character that is not a, b, or c\n",
    "- `[a-z]`: Matches any character from a to z\n",
    "- `[A-Z]`: Matches any character from A to Z\n",
    "- `[0-9]`: Matches any digit\n",
    "- `\\d`: Matches any digit (equivalent to [0-9])\n",
    "- `\\D`: Matches any non-digit\n",
    "- `\\w`: Matches any word character (equivalent to [a-zA-Z0-9_])\n",
    "- `\\W`: Matches any non-word character\n",
    "- `\\s`: Matches any whitespace character\n",
    "- `\\S`: Matches any non-whitespace character\n",
    "\n",
    "### Special Characters\n",
    "\n",
    "- `\\`: Escapes a special character\n",
    "- `()` : Defines a group\n",
    "- `(?:...)`: Non-capturing group\n",
    "- `(?=...)`: Positive lookahead assertion\n",
    "- `(?!...)`: Negative lookahead assertion\n",
    "\n",
    "### Examples\n",
    "\n",
    "- `abc`: Matches the string \"abc\"\n",
    "- `abc|def`: Matches \"abc\" or \"def\"\n",
    "- `^abc`: Matches any string that starts with \"abc\"\n",
    "- `abc$`: Matches a string that ends with \"abc\"\n",
    "- `a.b`: Matches any string containing \"a\", any character, then \"b\"\n",
    "- `a*`: Matches 0 or more 'a's\n",
    "- `a+`: Matches 1 or more 'a's\n",
    "- `a?`: Matches 0 or 1 'a'\n",
    "- `\\d{2,4}`: Matches between 2 and 4 digits"
   ]
  },
  {
   "cell_type": "markdown",
   "metadata": {},
   "source": []
  },
  {
   "cell_type": "markdown",
   "metadata": {},
   "source": []
  }
 ],
 "metadata": {
  "kernelspec": {
   "display_name": "base",
   "language": "python",
   "name": "python3"
  },
  "language_info": {
   "codemirror_mode": {
    "name": "ipython",
    "version": 3
   },
   "file_extension": ".py",
   "mimetype": "text/x-python",
   "name": "python",
   "nbconvert_exporter": "python",
   "pygments_lexer": "ipython3",
   "version": "3.11.7"
  }
 },
 "nbformat": 4,
 "nbformat_minor": 2
}
